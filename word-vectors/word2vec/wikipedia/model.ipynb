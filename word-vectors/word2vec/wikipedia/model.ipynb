{
 "cells": [
  {
   "cell_type": "markdown",
   "metadata": {},
   "source": [
    "# Pretrained Word2Vec Model on Urdu Wikipedia Corpus\n",
    "\n",
    "Word2vec is a widely featured as a member of the “new wave” of machine learning algorithms based on neural networks, commonly referred to as \"deep learning\" (though word2vec itself is rather shallow). Using large amounts of unannotated plain text, word2vec learns relationships between words automatically. The output are vectors, one vector per word, with remarkable linear relationships that allow us to do things like vec(“king”) – vec(“man”) + vec(“woman”) =~ vec(“queen”), or vec(“Montreal Canadiens”) – vec(“Montreal”) + vec(“Toronto”) resembles the vector for “Toronto Maple Leafs”."
   ]
  },
  {
   "cell_type": "markdown",
   "metadata": {},
   "source": [
    "## Loading the pretrained Urdu word2vec 300 dimension vector model\n",
    "\n",
    "This model trainied on 70,000 news posts data."
   ]
  },
  {
   "cell_type": "code",
   "execution_count": 12,
   "metadata": {},
   "outputs": [],
   "source": [
    "# import modules & set up logging\n",
    "import gensim, logging\n",
    "logging.basicConfig(format='%(asctime)s : %(levelname)s : %(message)s', level=logging.INFO)"
   ]
  },
  {
   "cell_type": "code",
   "execution_count": 2,
   "metadata": {},
   "outputs": [
    {
     "name": "stdout",
     "output_type": "stream",
     "text": [
      "--2018-07-24 18:24:33--  https://sgp1.digitaloceanspaces.com/urduhack/models/word-vectors/urdu_wikipedia_vector300.bin\n",
      "Resolving sgp1.digitaloceanspaces.com (sgp1.digitaloceanspaces.com)... 103.253.144.208\n",
      "Connecting to sgp1.digitaloceanspaces.com (sgp1.digitaloceanspaces.com)|103.253.144.208|:443... connected.\n",
      "HTTP request sent, awaiting response... 200 OK\n",
      "Length: 59323274 (57M) [application/octet-stream]\n",
      "Saving to: ‘STDOUT’\n",
      "\n",
      "-                   100%[===================>]  56.57M  3.37MB/s    in 26s     \n",
      "\n",
      "2018-07-24 18:25:01 (2.18 MB/s) - written to stdout [59323274/59323274]\n",
      "\n"
     ]
    }
   ],
   "source": [
    "# Downloading the Word2Vec model from google drive\n",
    "!wget -O - 'https://sgp1.digitaloceanspaces.com/urduhack/models/word-vectors/urdu_wikipedia_vector300.bin' > urdu_wikipedia_vector300.bin\n",
    "# import urllib.request\n",
    "\n",
    "# model_url = \"https://sgp1.digitaloceanspaces.com/urduhack/models/word-vectors/urdu_wikipedia_vector300.bin\"\n",
    "# file_name = \"urdu_wikipedia_vector300.bin\"\n",
    "# urllib.request.urlretrieve(model_url, file_name)"
   ]
  },
  {
   "cell_type": "code",
   "execution_count": 3,
   "metadata": {},
   "outputs": [
    {
     "name": "stderr",
     "output_type": "stream",
     "text": [
      "2018-07-24 18:25:28,000 : INFO : loading projection weights from urdu_wikipedia_vector300.bin\n",
      "2018-07-24 18:25:28,960 : INFO : loaded (49003, 300) matrix from urdu_wikipedia_vector300.bin\n"
     ]
    }
   ],
   "source": [
    "# Loading the model\n",
    "model = gensim.models.KeyedVectors.load_word2vec_format('urdu_wikipedia_vector300.bin', binary=True)\n",
    "# print(model)\n",
    "# print(model.wv.vocab)"
   ]
  },
  {
   "cell_type": "markdown",
   "metadata": {},
   "source": [
    "## Evaluating\n",
    "`Word2Vec` training is an unsupervised task, there’s no good way to objectively evaluate the result. Evaluation depends on your end application.\n",
    "\n",
    "Google has released their testing set of about 20,000 syntactic and semantic test examples, following the “A is to B as C is to D” task. It is provided in the 'datasets' folder.\n",
    "\n",
    "For example a syntactic analogy of comparative type is bad:worse;good:?. There are total of 9 types of syntactic comparisons in the dataset like plural nouns and nouns of opposite meaning.\n",
    "\n",
    "The semantic questions contain five types of semantic analogies, such as capital cities (Paris:France;Tokyo:?) or family members (brother:sister;dad:?). "
   ]
  },
  {
   "cell_type": "code",
   "execution_count": 4,
   "metadata": {},
   "outputs": [
    {
     "name": "stderr",
     "output_type": "stream",
     "text": [
      "2018-07-24 18:25:33,038 : INFO : precomputing L2-norms of word weight vectors\n"
     ]
    },
    {
     "data": {
      "text/plain": [
       "[('پنجاب', 0.7467092275619507),\n",
       " ('فیصل_آباد', 0.6053035855293274),\n",
       " ('یونین_کونسلیں', 0.5992769002914429),\n",
       " ('سرگودھا', 0.5941762328147888),\n",
       " ('اسلام_آباد', 0.5806517601013184),\n",
       " ('راولپنڈی', 0.5633086562156677),\n",
       " ('پاکستانی', 0.5550359487533569),\n",
       " ('ساہیوال', 0.5546157360076904),\n",
       " ('ضلع', 0.5504013895988464),\n",
       " ('پختونخوا', 0.5464353561401367)]"
      ]
     },
     "execution_count": 4,
     "metadata": {},
     "output_type": "execute_result"
    }
   ],
   "source": [
    "model.most_similar(\"پاکستان\")"
   ]
  },
  {
   "cell_type": "code",
   "execution_count": 5,
   "metadata": {},
   "outputs": [
    {
     "data": {
      "text/plain": [
       "[('عراق', 0.49037542939186096),\n",
       " ('مصر', 0.44794124364852905),\n",
       " ('عباسیہ', 0.4396800994873047),\n",
       " ('المقتدی', 0.4304294288158417),\n",
       " ('المتقی', 0.4190688729286194),\n",
       " ('بصرہ', 0.4182446002960205),\n",
       " ('باللہ', 0.4113025665283203),\n",
       " ('عباسی', 0.4049525260925293),\n",
       " ('واسط', 0.39807507395744324),\n",
       " ('المقتفی', 0.39746952056884766)]"
      ]
     },
     "execution_count": 5,
     "metadata": {},
     "output_type": "execute_result"
    }
   ],
   "source": [
    "model.most_similar(positive=['بغداد', 'یونان'], negative=['ایتھنز'])"
   ]
  },
  {
   "cell_type": "code",
   "execution_count": 6,
   "metadata": {},
   "outputs": [
    {
     "data": {
      "text/plain": [
       "[('جاپان', 0.482408344745636),\n",
       " ('اوساکا', 0.4233572781085968),\n",
       " ('توکیو', 0.41428637504577637),\n",
       " ('ہیروشیما', 0.4139555096626282),\n",
       " ('اوکیناوا', 0.3928012549877167),\n",
       " ('یوکوہاما', 0.39099442958831787),\n",
       " ('کاناگاوا', 0.38639694452285767),\n",
       " ('چوو', 0.36407244205474854),\n",
       " ('چیبا', 0.3635532855987549),\n",
       " ('گونما', 0.3627404272556305)]"
      ]
     },
     "execution_count": 6,
     "metadata": {},
     "output_type": "execute_result"
    }
   ],
   "source": [
    "model.most_similar(positive=['ٹوکیو', 'پاکستان'], negative=['اسلام_آباد'])"
   ]
  },
  {
   "cell_type": "code",
   "execution_count": 7,
   "metadata": {},
   "outputs": [
    {
     "data": {
      "text/plain": [
       "[('بہن', 0.5604875087738037),\n",
       " ('بیٹی', 0.5328823924064636),\n",
       " ('بیوی', 0.510018527507782),\n",
       " ('چچا', 0.49377816915512085),\n",
       " ('ماں', 0.49138566851615906),\n",
       " ('بیٹے', 0.4737793207168579),\n",
       " ('بہنیں', 0.4572775363922119),\n",
       " ('اپنے', 0.4566517174243927),\n",
       " ('شوہر', 0.4563017785549164),\n",
       " ('باپ', 0.4543006420135498)]"
      ]
     },
     "execution_count": 7,
     "metadata": {},
     "output_type": "execute_result"
    }
   ],
   "source": [
    "model.most_similar(positive=['بھائی', 'لڑکی'], negative=['لڑکا'])"
   ]
  },
  {
   "cell_type": "code",
   "execution_count": 8,
   "metadata": {},
   "outputs": [
    {
     "data": {
      "text/plain": [
       "[('پھالکے', 0.5259937644004822),\n",
       " ('دادی', 0.5064771771430969),\n",
       " ('والد', 0.5038189888000488),\n",
       " ('والدہ', 0.501828134059906),\n",
       " ('صاحب', 0.4324100613594055),\n",
       " ('بھائی', 0.43129321932792664),\n",
       " ('بیٹی', 0.4238676428794861),\n",
       " ('نانا', 0.4186864197254181),\n",
       " ('بچپن', 0.414540559053421),\n",
       " ('تھی', 0.41393712162971497)]"
      ]
     },
     "execution_count": 8,
     "metadata": {},
     "output_type": "execute_result"
    }
   ],
   "source": [
    "model.most_similar(positive=['ماں', 'دادا'], negative=['باپ'])"
   ]
  },
  {
   "cell_type": "code",
   "execution_count": 9,
   "metadata": {},
   "outputs": [
    {
     "data": {
      "text/plain": [
       "[('شادی', 0.4839109182357788),\n",
       " ('بیوی', 0.4822179675102234),\n",
       " ('طلاق', 0.4765128195285797),\n",
       " ('بیٹی', 0.4720294177532196),\n",
       " ('عورت', 0.426933228969574),\n",
       " ('بیوہ', 0.4230973422527313),\n",
       " ('زوجیت', 0.40840286016464233),\n",
       " ('بائن', 0.40645647048950195),\n",
       " ('ماں', 0.39884424209594727),\n",
       " ('خاوند', 0.38704994320869446)]"
      ]
     },
     "execution_count": 9,
     "metadata": {},
     "output_type": "execute_result"
    }
   ],
   "source": [
    "model.most_similar(positive=['دلہن', 'شوہر'], negative=['دولہا'])"
   ]
  },
  {
   "cell_type": "code",
   "execution_count": 10,
   "metadata": {},
   "outputs": [
    {
     "data": {
      "text/plain": [
       "[('ماں', 0.5418938994407654),\n",
       " ('بہن', 0.4456590414047241),\n",
       " ('وکٹوریہ', 0.42152002453804016),\n",
       " ('شوہر', 0.4130823612213135),\n",
       " ('پرورش', 0.40089383721351624),\n",
       " ('والدین', 0.39476436376571655),\n",
       " ('بیٹی', 0.38815945386886597),\n",
       " ('بہنیں', 0.3837417960166931),\n",
       " ('علاتی', 0.3805781900882721),\n",
       " ('بیوی', 0.36311426758766174)]"
      ]
     },
     "execution_count": 10,
     "metadata": {},
     "output_type": "execute_result"
    }
   ],
   "source": [
    "model.most_similar(positive=['ملکہ', 'باپ'], negative=['بادشاہ'])"
   ]
  },
  {
   "cell_type": "code",
   "execution_count": 11,
   "metadata": {},
   "outputs": [
    {
     "data": {
      "text/plain": [
       "array([-0.21249534, -0.12088712, -0.03337938,  0.1294517 ,  0.06872807,\n",
       "       -0.15708762, -0.03832152,  0.01208377, -0.00126557,  0.16960444,\n",
       "        0.23568088, -0.08160762, -0.02412523,  0.16356471, -0.05752182,\n",
       "       -0.12276691, -0.04620882, -0.23366505,  0.08279461, -0.27864212,\n",
       "        0.03130965, -0.07335329,  0.4113855 , -0.08954591, -0.03329318,\n",
       "        0.14568794, -0.01411998, -0.35976505, -0.16805366,  0.27745   ,\n",
       "       -0.11670386,  0.13970521, -0.09095754, -0.28314885, -0.00339895,\n",
       "       -0.12952733, -0.11692375, -0.00175775,  0.12180114,  0.2150947 ,\n",
       "       -0.17637   , -0.11560613,  0.295377  , -0.22365154, -0.14937128,\n",
       "        0.0241532 ,  0.22610712, -0.13781556,  0.09309111,  0.05551736,\n",
       "        0.22507915,  0.24406788,  0.20637538,  0.08112481,  0.2111563 ,\n",
       "        0.12795997,  0.03077609, -0.06342357,  0.25512847, -0.15940166,\n",
       "        0.34372777, -0.21340546, -0.1431308 , -0.2134725 ,  0.03645939,\n",
       "        0.23832083,  0.10252366, -0.23124702, -0.24194516,  0.07295949,\n",
       "       -0.09274206,  0.12351194, -0.18253016,  0.06722474, -0.02952658,\n",
       "        0.19331682,  0.05152765,  0.14887111, -0.15139332,  0.0936893 ,\n",
       "        0.25639796, -0.160631  , -0.02192379,  0.00760813, -0.03730596,\n",
       "        0.20607577, -0.03637871, -0.07825842, -0.17635204, -0.16960433,\n",
       "        0.28069788, -0.12002047, -0.12889585,  0.0057861 ,  0.20271954,\n",
       "       -0.30113044,  0.01966443, -0.21717434, -0.02700013, -0.08667299,\n",
       "       -0.00475299, -0.18224765, -0.00892686, -0.01965708,  0.09416932,\n",
       "        0.2762284 ,  0.12578803, -0.07600867, -0.05978566,  0.03014549,\n",
       "        0.15255822, -0.04897831, -0.06238446,  0.08406075,  0.14781196,\n",
       "       -0.00777064, -0.03035216, -0.09464236,  0.15982813,  0.17624739,\n",
       "       -0.11221052, -0.17946418, -0.07997352, -0.02614412, -0.2592167 ,\n",
       "        0.26491165,  0.15370893,  0.10561652, -0.20164414, -0.19469374,\n",
       "        0.03223069,  0.22458687, -0.113543  ,  0.04613412, -0.09109731,\n",
       "        0.3638018 , -0.13469517,  0.24659294, -0.11156268, -0.11844199,\n",
       "       -0.05951988,  0.05336542,  0.14495435, -0.03772226,  0.42238054,\n",
       "       -0.01736529,  0.03309475,  0.06446801, -0.3915328 ,  0.12163391,\n",
       "        0.19534801, -0.03965056,  0.28643712, -0.0774456 , -0.12409233,\n",
       "        0.17403415,  0.1632054 , -0.22371706, -0.20207827,  0.446517  ,\n",
       "       -0.17295977, -0.1300292 , -0.20595494, -0.1275262 ,  0.22770394,\n",
       "        0.20805751,  0.02630364, -0.15856668,  0.08066389,  0.36087477,\n",
       "        0.04785861,  0.2655937 ,  0.08804425,  0.07273163,  0.05580769,\n",
       "       -0.2528582 , -0.19515802,  0.01425736, -0.00652479, -0.27014723,\n",
       "        0.17787959, -0.22641902,  0.28231403, -0.1683926 ,  0.00103389,\n",
       "       -0.08492185,  0.2428128 , -0.15125285, -0.26900497,  0.08578289,\n",
       "       -0.12555979,  0.28412634, -0.12830673, -0.30166683, -0.13538106,\n",
       "       -0.12445913,  0.11129901, -0.10680575,  0.2579444 , -0.4662034 ,\n",
       "       -0.05609827,  0.31101155,  0.11507542,  0.06215957,  0.18644994,\n",
       "       -0.1652492 ,  0.21024139,  0.00845289,  0.01862018, -0.12531658,\n",
       "       -0.25807765, -0.10486709,  0.06219442, -0.05713902, -0.11227339,\n",
       "        0.12020671, -0.08949609,  0.27700096,  0.03226054, -0.1679759 ,\n",
       "       -0.2071231 ,  0.02266884, -0.10161154,  0.1511553 ,  0.05795112,\n",
       "        0.07826629, -0.34528017, -0.13709858,  0.10176287, -0.07507926,\n",
       "        0.03843507,  0.01949736,  0.03586836,  0.11034749,  0.05525888,\n",
       "        0.03887878, -0.18501247, -0.22825919,  0.02758829, -0.13343905,\n",
       "        0.19739681,  0.0036633 , -0.1927688 ,  0.20040555, -0.16001514,\n",
       "       -0.01237389, -0.18769604, -0.1976669 ,  0.1025178 , -0.2959264 ,\n",
       "        0.06883255, -0.22973253,  0.01217506,  0.18331327,  0.01435374,\n",
       "        0.02380591,  0.2220699 , -0.03144206, -0.20438662, -0.13713785,\n",
       "       -0.02761705,  0.31141686,  0.07800078, -0.13711646,  0.23289314,\n",
       "       -0.05915428, -0.23183773,  0.09692322,  0.31818628,  0.15728782,\n",
       "       -0.36431447,  0.00670947,  0.3206103 ,  0.22560698,  0.07631855,\n",
       "        0.03190765, -0.13524447, -0.01449813, -0.20732823, -0.17535216,\n",
       "        0.06592085, -0.06975078,  0.05860787,  0.07728454, -0.09392618,\n",
       "       -0.14632715, -0.14005531, -0.11121415,  0.01138244, -0.01901501,\n",
       "        0.20460758,  0.31693187, -0.4407055 , -0.14300013,  0.06574263,\n",
       "        0.08152363, -0.6180451 , -0.1069627 , -0.34127605,  0.30856192],\n",
       "      dtype=float32)"
      ]
     },
     "execution_count": 11,
     "metadata": {},
     "output_type": "execute_result"
    }
   ],
   "source": [
    "model['پاکستان']"
   ]
  },
  {
   "cell_type": "code",
   "execution_count": null,
   "metadata": {},
   "outputs": [],
   "source": []
  }
 ],
 "metadata": {
  "anaconda-cloud": {},
  "kernelspec": {
   "display_name": "Python 3",
   "language": "python",
   "name": "python3"
  },
  "language_info": {
   "codemirror_mode": {
    "name": "ipython",
    "version": 3
   },
   "file_extension": ".py",
   "mimetype": "text/x-python",
   "name": "python",
   "nbconvert_exporter": "python",
   "pygments_lexer": "ipython3",
   "version": "3.6.4"
  }
 },
 "nbformat": 4,
 "nbformat_minor": 1
}
