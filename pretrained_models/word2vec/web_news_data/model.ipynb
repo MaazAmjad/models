{
 "cells": [
  {
   "cell_type": "markdown",
   "metadata": {},
   "source": [
    "# Pretrained Word2Vec Model on Urdu News Data\n",
    "\n",
    "Word2vec is a widely featured as a member of the “new wave” of machine learning algorithms based on neural networks, commonly referred to as \"deep learning\" (though word2vec itself is rather shallow). Using large amounts of unannotated plain text, word2vec learns relationships between words automatically. The output are vectors, one vector per word, with remarkable linear relationships that allow us to do things like vec(“king”) – vec(“man”) + vec(“woman”) =~ vec(“queen”), or vec(“Montreal Canadiens”) – vec(“Montreal”) + vec(“Toronto”) resembles the vector for “Toronto Maple Leafs”."
   ]
  },
  {
   "cell_type": "markdown",
   "metadata": {},
   "source": [
    "## Londing the pretrained Urdu word2vec 300 dimension vector model\n",
    "\n",
    "This model trainied on 50,000 news posts data."
   ]
  },
  {
   "cell_type": "code",
   "execution_count": 1,
   "metadata": {},
   "outputs": [],
   "source": [
    "# import modules & set up logging\n",
    "import gensim, logging\n",
    "logging.basicConfig(format='%(asctime)s : %(levelname)s : %(message)s', level=logging.INFO)"
   ]
  },
  {
   "cell_type": "code",
   "execution_count": 2,
   "metadata": {},
   "outputs": [],
   "source": [
    "# Downloading the Word2Vec model from google drive\n",
    "#!wget -O - 'https://drive.google.com/uc?export=download&id=13KLg3wUTOwWiF_YdAtZFe18j7MQmOWfb' > urdu_web_news_vector300.bin\n",
    "# import urllib.request\n",
    "\n",
    "# model_url = \"https://drive.google.com/uc?export=download&id=13KLg3wUTOwWiF_YdAtZFe18j7MQmOWfb\"\n",
    "# file_name = \"urdu_web_news_vector300.bin\"\n",
    "# urllib.request.urlretrieve(model_url, file_name)"
   ]
  },
  {
   "cell_type": "code",
   "execution_count": 3,
   "metadata": {},
   "outputs": [
    {
     "name": "stderr",
     "output_type": "stream",
     "text": [
      "2018-06-09 13:11:32,196 : INFO : loading projection weights from urdu_web_news_vector300.bin\n",
      "2018-06-09 13:11:32,689 : INFO : loaded (24248, 300) matrix from urdu_web_news_vector300.bin\n"
     ]
    }
   ],
   "source": [
    "# Loading the model\n",
    "model = gensim.models.KeyedVectors.load_word2vec_format('urdu_web_news_vector300.bin', binary=True)\n",
    "# print(model)\n",
    "# print(model.wv.vocab)"
   ]
  },
  {
   "cell_type": "markdown",
   "metadata": {},
   "source": [
    "## Memory\n",
    "At its core, `word2vec` model parameters are stored as matrices (NumPy arrays). Each array is **#vocabulary** (controlled by min_count parameter) times **#size** (size parameter) of floats (single precision aka 4 bytes).\n",
    "\n",
    "Three such matrices are held in RAM (work is underway to reduce that number to two, or even one). So if your input contains 100,000 unique words, and you asked for layer `size=200`, the model will require approx. `100,000*200*4*3 bytes = ~229MB`.\n",
    "\n",
    "There’s a little extra memory needed for storing the vocabulary tree (100,000 words would take a few megabytes), but unless your words are extremely loooong strings, memory footprint will be dominated by the three matrices above."
   ]
  },
  {
   "cell_type": "markdown",
   "metadata": {},
   "source": [
    "## Evaluating\n",
    "`Word2Vec` training is an unsupervised task, there’s no good way to objectively evaluate the result. Evaluation depends on your end application.\n",
    "\n",
    "Google has released their testing set of about 20,000 syntactic and semantic test examples, following the “A is to B as C is to D” task. It is provided in the 'datasets' folder.\n",
    "\n",
    "For example a syntactic analogy of comparative type is bad:worse;good:?. There are total of 9 types of syntactic comparisons in the dataset like plural nouns and nouns of opposite meaning.\n",
    "\n",
    "The semantic questions contain five types of semantic analogies, such as capital cities (Paris:France;Tokyo:?) or family members (brother:sister;dad:?). "
   ]
  },
  {
   "cell_type": "code",
   "execution_count": 4,
   "metadata": {},
   "outputs": [
    {
     "name": "stderr",
     "output_type": "stream",
     "text": [
      "2018-06-09 13:11:37,295 : INFO : precomputing L2-norms of word weight vectors\n"
     ]
    },
    {
     "data": {
      "text/plain": [
       "[('افغانستان', 0.534391462802887),\n",
       " ('پاکستانی', 0.527515172958374),\n",
       " ('بھارت', 0.5176973342895508),\n",
       " ('زمبابوے', 0.5033701062202454),\n",
       " ('اورپاکستان', 0.491726279258728),\n",
       " ('خطے', 0.49089372158050537),\n",
       " ('امن', 0.484420508146286),\n",
       " ('ہندوستان', 0.48133471608161926),\n",
       " ('امریکہ', 0.4743611216545105),\n",
       " ('انڈیا', 0.4649897515773773)]"
      ]
     },
     "execution_count": 4,
     "metadata": {},
     "output_type": "execute_result"
    }
   ],
   "source": [
    "model.most_similar(\"پاکستان\")"
   ]
  },
  {
   "cell_type": "code",
   "execution_count": 5,
   "metadata": {},
   "outputs": [
    {
     "data": {
      "text/plain": [
       "[('دلی', 0.47923001646995544),\n",
       " ('انڈیا', 0.4310738444328308),\n",
       " ('بھارت', 0.4303123652935028),\n",
       " ('پاکستانی', 0.42918506264686584),\n",
       " ('بیجنگ', 0.42072150111198425),\n",
       " ('اسرائیل', 0.4158594310283661),\n",
       " ('کولکتہ', 0.4154762327671051),\n",
       " ('ماسکو', 0.40587425231933594),\n",
       " ('ہندوستان', 0.39771535992622375),\n",
       " ('نیپال', 0.3900505304336548)]"
      ]
     },
     "execution_count": 5,
     "metadata": {},
     "output_type": "execute_result"
    }
   ],
   "source": [
    "model.most_similar(positive=['دہلی', 'پاکستان'], negative=['پنجاب'])"
   ]
  },
  {
   "cell_type": "code",
   "execution_count": 6,
   "metadata": {},
   "outputs": [
    {
     "data": {
      "text/plain": [
       "array([ 0.3053402 , -0.94782573, -0.9116081 ,  1.4664174 ,  0.3587429 ,\n",
       "       -2.006762  ,  0.84409386, -1.1533123 , -1.020578  , -2.472494  ,\n",
       "       -0.35124967, -0.88023293,  1.082465  , -0.63575685,  1.9495397 ,\n",
       "        0.8278821 ,  0.7919433 ,  1.0122516 ,  1.6798223 , -1.3990988 ,\n",
       "       -1.1028582 , -0.06708375, -0.49618647,  1.4706877 ,  0.8937356 ,\n",
       "       -0.05487218, -0.5642198 ,  0.16571091, -0.22957174, -0.0665009 ,\n",
       "        1.4714681 , -0.4470899 ,  1.1184038 , -1.6914088 ,  0.21329756,\n",
       "        0.23761903, -0.7907745 ,  1.875816  ,  1.2476456 ,  0.7480573 ,\n",
       "       -0.24974996,  1.1688299 , -0.49197036, -0.37073052,  0.75272155,\n",
       "       -0.8955356 ,  0.23544744,  0.63295424,  0.14902435,  1.802959  ,\n",
       "        0.7852391 , -0.2467207 ,  0.5826205 ,  0.31808347,  0.365385  ,\n",
       "       -0.396788  , -0.98084587, -0.31967983, -0.08042665,  0.06011335,\n",
       "        0.7501427 , -0.04102356, -0.3784863 , -0.8184698 , -0.9788742 ,\n",
       "        0.5499173 , -0.18837541, -0.9261864 , -0.8445961 ,  0.8253999 ,\n",
       "       -0.96888447, -0.65098983, -0.76740074, -0.55774355, -0.6426712 ,\n",
       "        0.70217884,  0.5298856 ,  1.1529306 , -1.8211225 ,  0.7479021 ,\n",
       "       -0.48661792, -0.58274406,  0.93997526, -0.3677252 , -1.3776379 ,\n",
       "       -0.5972134 , -0.66274124, -1.9836128 , -0.9869486 ,  0.8976924 ,\n",
       "        1.3649246 , -0.4406453 ,  0.23620427, -0.5249488 ,  0.7750121 ,\n",
       "        0.490714  ,  1.4838735 ,  1.0993644 , -0.08682367, -1.836656  ,\n",
       "       -1.1411968 ,  0.67768496, -0.728503  , -0.6078423 , -1.0189478 ,\n",
       "        0.59778947, -0.09208743, -0.14146417, -0.7096122 ,  0.04872904,\n",
       "        0.90077287, -0.06642898, -0.1837374 ,  1.0814843 , -1.766624  ,\n",
       "       -0.11235077,  1.391731  ,  0.71628165, -1.4528385 , -0.23727956,\n",
       "        0.9201759 ,  0.73771775, -1.3510811 ,  0.16397507, -1.0207683 ,\n",
       "       -0.8969588 ,  0.06713691, -0.39743173,  0.28871083,  0.22599694,\n",
       "       -0.8908336 , -0.23414071,  0.23719348,  0.33463144,  0.2598271 ,\n",
       "       -0.6262461 , -0.9237807 , -1.4848738 , -1.0585333 ,  0.1309115 ,\n",
       "        1.6427146 , -0.3938548 ,  0.8163216 , -0.4885652 ,  0.15511428,\n",
       "       -1.0122666 , -2.045294  ,  0.7971914 ,  0.46019137, -1.3716302 ,\n",
       "        1.1283976 ,  2.2709262 ,  0.94205815,  0.18210123,  0.5390624 ,\n",
       "       -1.3711904 ,  0.09830445,  0.4097124 ,  0.82737917,  0.6356412 ,\n",
       "       -0.26677117, -2.5627327 , -0.3065652 , -0.3442909 ,  0.2063961 ,\n",
       "       -0.66503865, -0.26024815, -1.2312776 ,  0.19152658,  1.9183005 ,\n",
       "        0.01935149, -1.6419513 , -0.16702998, -0.39057943, -0.08024405,\n",
       "        0.09243868, -0.48753232, -1.2071862 , -0.19890784,  0.75831497,\n",
       "        0.34969983,  1.4917175 ,  1.1948807 , -1.0081427 ,  2.0606484 ,\n",
       "       -0.6231283 ,  0.6979568 ,  0.41846493, -1.8218157 ,  1.6335887 ,\n",
       "       -0.51973873,  1.0700955 , -1.7254577 , -0.20486884, -3.314859  ,\n",
       "       -0.27055922, -0.1724994 ,  0.43448013, -0.05878449, -0.4743884 ,\n",
       "       -1.2908447 ,  0.23002993, -0.33060446,  2.686284  ,  0.07178227,\n",
       "       -0.4216354 ,  0.6518678 ,  0.6461938 ,  0.98262835, -1.9056329 ,\n",
       "        1.6775368 ,  1.0208864 , -0.98278093, -0.39664048, -1.2406607 ,\n",
       "        0.14680256, -1.2589364 ,  0.3661542 ,  1.5328361 ,  1.6550629 ,\n",
       "       -0.5126891 ,  0.57092005,  0.15445687,  1.2279501 , -1.50201   ,\n",
       "        1.9778292 , -0.22508729, -0.09406773, -0.3037429 , -0.43025225,\n",
       "       -1.3855639 ,  1.9271209 ,  0.18669964,  1.1899061 ,  1.0066743 ,\n",
       "        0.87455696,  0.7941614 , -0.47606835, -0.20311503,  0.27330622,\n",
       "        0.6481563 ,  0.8390147 ,  1.6485413 , -1.8475477 , -1.0613027 ,\n",
       "       -0.7648569 ,  1.9016634 , -0.820894  , -2.2237897 ,  1.1607425 ,\n",
       "        0.7847113 , -2.5313776 , -1.5135165 , -0.38746715,  0.9425221 ,\n",
       "        0.26300982,  0.51556873, -0.71054757, -0.03210231, -1.034052  ,\n",
       "       -0.0110669 ,  1.7193965 ,  0.53028923, -0.5831395 ,  0.02347662,\n",
       "       -0.09820183,  0.535341  , -0.8933296 , -1.7530167 , -0.92089564,\n",
       "       -1.2135836 , -1.1307914 , -1.704749  , -0.09369057, -0.81504977,\n",
       "        0.0495796 , -0.09128604, -0.58250725,  0.05122252, -0.32055208,\n",
       "       -0.49925548,  1.187744  , -0.525815  , -0.8322116 , -0.59790385,\n",
       "        1.0439539 , -1.542544  , -2.064947  ,  0.33116952, -0.29781154,\n",
       "       -0.4747458 , -3.3541973 , -0.6699699 ,  1.6156923 ,  1.7382495 ,\n",
       "       -2.0731046 ,  0.71410006, -0.87911993, -1.14412   , -0.917299  ],\n",
       "      dtype=float32)"
      ]
     },
     "execution_count": 6,
     "metadata": {},
     "output_type": "execute_result"
    }
   ],
   "source": [
    "model['پاکستان'] # Raw NumPy vector of a word"
   ]
  }
 ],
 "metadata": {
  "anaconda-cloud": {},
  "kernelspec": {
   "display_name": "Python 3",
   "language": "python",
   "name": "python3"
  },
  "language_info": {
   "codemirror_mode": {
    "name": "ipython",
    "version": 3
   },
   "file_extension": ".py",
   "mimetype": "text/x-python",
   "name": "python",
   "nbconvert_exporter": "python",
   "pygments_lexer": "ipython3",
   "version": "3.6.4"
  }
 },
 "nbformat": 4,
 "nbformat_minor": 1
}
