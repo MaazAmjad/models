{
 "cells": [
  {
   "cell_type": "markdown",
   "metadata": {},
   "source": [
    "# Pretrained Word2Vec Model on Urdu News Data\n",
    "\n",
    "Word2vec is a widely featured as a member of the “new wave” of machine learning algorithms based on neural networks, commonly referred to as \"deep learning\" (though word2vec itself is rather shallow). Using large amounts of unannotated plain text, word2vec learns relationships between words automatically. The output are vectors, one vector per word, with remarkable linear relationships that allow us to do things like vec(“king”) – vec(“man”) + vec(“woman”) =~ vec(“queen”), or vec(“Montreal Canadiens”) – vec(“Montreal”) + vec(“Toronto”) resembles the vector for “Toronto Maple Leafs”."
   ]
  },
  {
   "cell_type": "markdown",
   "metadata": {},
   "source": [
    "## Londing the pretrained Urdu word2vec 300 dimension vector model\n",
    "\n",
    "This model trainied on 50,000 news posts data."
   ]
  },
  {
   "cell_type": "code",
   "execution_count": 9,
   "metadata": {},
   "outputs": [],
   "source": [
    "# import modules & set up logging\n",
    "import gensim, logging\n",
    "logging.basicConfig(format='%(asctime)s : %(levelname)s : %(message)s', level=logging.INFO)"
   ]
  },
  {
   "cell_type": "code",
   "execution_count": 10,
   "metadata": {},
   "outputs": [],
   "source": [
    "# Downloading the Word2Vec model from google drive\n",
    "#!wget -O - 'https://drive.google.com/uc?export=download&id=1MEQMqHdsAm1vaJgG9PrNccn0vFEhX41l' > urdu_web_news_vector300.bin\n",
    "# import urllib.request\n",
    "\n",
    "# model_url = \"https://drive.google.com/uc?export=download&id=1MEQMqHdsAm1vaJgG9PrNccn0vFEhX41l\"\n",
    "# file_name = \"urdu_web_news_vector300.bin\"\n",
    "# urllib.request.urlretrieve(model_url, file_name)"
   ]
  },
  {
   "cell_type": "code",
   "execution_count": 11,
   "metadata": {},
   "outputs": [
    {
     "name": "stderr",
     "output_type": "stream",
     "text": [
      "2018-06-29 12:34:36,472 : INFO : loading projection weights from urdu_web_news_vector300.bin\n",
      "2018-06-29 12:34:37,037 : INFO : loaded (27994, 300) matrix from urdu_web_news_vector300.bin\n"
     ]
    }
   ],
   "source": [
    "# Loading the model\n",
    "model = gensim.models.KeyedVectors.load_word2vec_format('urdu_web_news_vector300.bin', binary=True)\n",
    "# print(model)\n",
    "# print(model.wv.vocab)"
   ]
  },
  {
   "cell_type": "markdown",
   "metadata": {},
   "source": [
    "## Evaluating\n",
    "`Word2Vec` training is an unsupervised task, there’s no good way to objectively evaluate the result. Evaluation depends on your end application.\n",
    "\n",
    "Google has released their testing set of about 20,000 syntactic and semantic test examples, following the “A is to B as C is to D” task. It is provided in the 'datasets' folder.\n",
    "\n",
    "For example a syntactic analogy of comparative type is bad:worse;good:?. There are total of 9 types of syntactic comparisons in the dataset like plural nouns and nouns of opposite meaning.\n",
    "\n",
    "The semantic questions contain five types of semantic analogies, such as capital cities (Paris:France;Tokyo:?) or family members (brother:sister;dad:?). "
   ]
  },
  {
   "cell_type": "code",
   "execution_count": 12,
   "metadata": {},
   "outputs": [
    {
     "name": "stderr",
     "output_type": "stream",
     "text": [
      "2018-06-29 12:34:53,829 : INFO : precomputing L2-norms of word weight vectors\n"
     ]
    },
    {
     "data": {
      "text/plain": [
       "[('بھارت', 0.6387995481491089),\n",
       " ('پاکستانی', 0.5963138937950134),\n",
       " ('نے', 0.5816565155982971),\n",
       " ('ملک', 0.5756391286849976),\n",
       " ('کہا', 0.5627798438072205),\n",
       " ('افغانستان', 0.5310071110725403),\n",
       " ('انہوں', 0.5267655253410339),\n",
       " ('کیلئے', 0.5223846435546875),\n",
       " ('عالمی', 0.5208458304405212),\n",
       " ('کیخلاف', 0.5103233456611633)]"
      ]
     },
     "execution_count": 12,
     "metadata": {},
     "output_type": "execute_result"
    }
   ],
   "source": [
    "model.most_similar(\"پاکستان\")"
   ]
  },
  {
   "cell_type": "code",
   "execution_count": 7,
   "metadata": {},
   "outputs": [
    {
     "data": {
      "text/plain": [
       "[('بھارت', 0.6196030974388123),\n",
       " ('بھارتی', 0.4861717224121094),\n",
       " ('انڈیا', 0.47880643606185913),\n",
       " ('ہندوستان', 0.4585074782371521),\n",
       " ('پاکستانی', 0.42618855834007263),\n",
       " ('نئی', 0.41773831844329834),\n",
       " ('دہلی:', 0.4116121530532837),\n",
       " ('ممبئی', 0.4058562219142914),\n",
       " ('ہندوستانی', 0.3850819170475006),\n",
       " ('ممبئی،', 0.38133400678634644)]"
      ]
     },
     "execution_count": 7,
     "metadata": {},
     "output_type": "execute_result"
    }
   ],
   "source": [
    "model.most_similar(positive=['دہلی', 'پاکستان'], negative=['پنجاب'])"
   ]
  },
  {
   "cell_type": "code",
   "execution_count": 17,
   "metadata": {},
   "outputs": [
    {
     "data": {
      "text/plain": [
       "[('عراق', 0.45472341775894165),\n",
       " ('عراقی', 0.41974303126335144),\n",
       " ('خودکش', 0.3903034031391144),\n",
       " ('ایران،', 0.36064645648002625),\n",
       " ('یمن', 0.34030547738075256),\n",
       " ('فرانس،', 0.3286679983139038),\n",
       " ('ادلب', 0.3282949924468994),\n",
       " ('موصل', 0.32810428738594055),\n",
       " ('دھماکے', 0.32595381140708923),\n",
       " ('حملہ', 0.3246413469314575)]"
      ]
     },
     "execution_count": 17,
     "metadata": {},
     "output_type": "execute_result"
    }
   ],
   "source": [
    "model.most_similar(positive=['بغداد', 'یونان'], negative=['ایتھنز'])"
   ]
  },
  {
   "cell_type": "code",
   "execution_count": 19,
   "metadata": {},
   "outputs": [
    {
     "data": {
      "text/plain": [
       "[('جاپان', 0.518461287021637),\n",
       " ('جاپانی', 0.42522647976875305),\n",
       " ('بھارت', 0.3991791605949402),\n",
       " ('دنیا', 0.3974219858646393),\n",
       " ('چین', 0.3774305582046509),\n",
       " ('اوساکا', 0.3636421859264374),\n",
       " ('جاپان،', 0.35131868720054626),\n",
       " ('انڈیا', 0.3293466866016388),\n",
       " ('عالمی', 0.32560476660728455),\n",
       " ('جاپانیوں', 0.3245166540145874)]"
      ]
     },
     "execution_count": 19,
     "metadata": {},
     "output_type": "execute_result"
    }
   ],
   "source": [
    "model.most_similar(positive=['ٹوکیو', 'پاکستان'], negative=['اسلام_آباد'])"
   ]
  },
  {
   "cell_type": "code",
   "execution_count": 20,
   "metadata": {},
   "outputs": [
    {
     "data": {
      "text/plain": [
       "[('بہن', 0.5513333082199097),\n",
       " ('والد', 0.532108724117279),\n",
       " ('بیٹی', 0.5085018873214722),\n",
       " ('والدہ', 0.48878273367881775),\n",
       " ('کوقتل', 0.46216732263565063),\n",
       " ('بھائیوں', 0.45481085777282715),\n",
       " ('پولیس', 0.4398535490036011),\n",
       " ('باپ', 0.439206600189209),\n",
       " ('کزن', 0.417349249124527),\n",
       " ('خاتون', 0.4159335494041443)]"
      ]
     },
     "execution_count": 20,
     "metadata": {},
     "output_type": "execute_result"
    }
   ],
   "source": [
    "model.most_similar(positive=['بھائی', 'لڑکی'], negative=['لڑکا'])"
   ]
  },
  {
   "cell_type": "code",
   "execution_count": 21,
   "metadata": {},
   "outputs": [
    {
     "data": {
      "text/plain": [
       "[('دادی', 0.43415290117263794),\n",
       " ('والد', 0.40385210514068604),\n",
       " ('والدہ', 0.3773915469646454),\n",
       " ('خالہ', 0.339709997177124),\n",
       " ('’میرے', 0.3385547697544098),\n",
       " ('چچا', 0.3361136019229889),\n",
       " ('دادا،', 0.33231672644615173),\n",
       " ('پوتے', 0.32845091819763184),\n",
       " ('بچے', 0.3262842893600464),\n",
       " ('میرے', 0.3215794563293457)]"
      ]
     },
     "execution_count": 21,
     "metadata": {},
     "output_type": "execute_result"
    }
   ],
   "source": [
    "model.most_similar(positive=['ماں', 'دادا'], negative=['باپ'])"
   ]
  },
  {
   "cell_type": "code",
   "execution_count": 22,
   "metadata": {},
   "outputs": [
    {
     "data": {
      "text/plain": [
       "[('بیوی', 0.6536001563072205),\n",
       " ('خاوند', 0.6006074547767639),\n",
       " ('طلاق', 0.5600955486297607),\n",
       " ('خاتون', 0.5458393692970276),\n",
       " ('شادی', 0.5421558022499084),\n",
       " ('بیٹی', 0.5145429968833923),\n",
       " ('اداکارہ', 0.4982667863368988),\n",
       " ('ماں', 0.4932785630226135),\n",
       " ('عورت', 0.476948082447052),\n",
       " ('اہلیہ', 0.4722379744052887)]"
      ]
     },
     "execution_count": 22,
     "metadata": {},
     "output_type": "execute_result"
    }
   ],
   "source": [
    "model.most_similar(positive=['دلہن', 'شوہر'], negative=['دولہا'])"
   ]
  },
  {
   "cell_type": "code",
   "execution_count": 23,
   "metadata": {},
   "outputs": [
    {
     "data": {
      "text/plain": [
       "[('ماں', 0.5100770592689514),\n",
       " ('بیٹی', 0.4709329605102539),\n",
       " ('بیٹے', 0.42628371715545654),\n",
       " ('رشتے', 0.3735599219799042),\n",
       " ('بیٹوں', 0.3722909986972809),\n",
       " ('بہو', 0.37172698974609375),\n",
       " ('بیوی', 0.3640066385269165),\n",
       " ('بچی', 0.36133867502212524),\n",
       " ('شوہر', 0.36050519347190857),\n",
       " ('بہن', 0.3537209630012512)]"
      ]
     },
     "execution_count": 23,
     "metadata": {},
     "output_type": "execute_result"
    }
   ],
   "source": [
    "model.most_similar(positive=['ملکہ', 'باپ'], negative=['بادشاہ'])"
   ]
  },
  {
   "cell_type": "code",
   "execution_count": 25,
   "metadata": {},
   "outputs": [
    {
     "data": {
      "text/plain": [
       "array([ 0.07345428, -0.15035841,  0.10580754, -0.16741668, -0.11897424,\n",
       "        0.03232108, -0.03160947,  0.15612677,  0.05198599, -0.00172963,\n",
       "       -0.1187181 ,  0.02466597, -0.03736669,  0.1159278 , -0.01627684,\n",
       "       -0.13789167,  0.04579989,  0.11536546,  0.00917979, -0.14214034,\n",
       "        0.17768794, -0.11860704, -0.00795708, -0.14678237, -0.07083804,\n",
       "        0.02779116,  0.25819954, -0.12104045,  0.04358017, -0.10631539,\n",
       "       -0.10219189,  0.04885708, -0.06228257,  0.12631819,  0.11282982,\n",
       "        0.17081013,  0.00242554,  0.00097731, -0.01763403,  0.05260813,\n",
       "       -0.00712063, -0.2173309 , -0.05800922, -0.03741108, -0.08908761,\n",
       "        0.21754497, -0.00073987, -0.02886635, -0.10344625,  0.00163667,\n",
       "       -0.31038073, -0.23071307, -0.05358592, -0.19568776,  0.06148865,\n",
       "       -0.0973029 , -0.03981625,  0.06310487, -0.04688233,  0.04291866,\n",
       "       -0.02293593, -0.1755999 ,  0.11775573,  0.02200602,  0.11084885,\n",
       "        0.1321153 ,  0.18022722, -0.10948982,  0.19681081, -0.18653019,\n",
       "        0.09031128,  0.05716597, -0.04119886, -0.16408981,  0.1406519 ,\n",
       "       -0.08068601,  0.13194549,  0.15697338, -0.26577333,  0.02475858,\n",
       "        0.05328842, -0.00806448,  0.04251853, -0.13936785, -0.11745141,\n",
       "       -0.05131506,  0.15006766,  0.19271895,  0.06262361, -0.00343265,\n",
       "       -0.15743594, -0.10844001,  0.15244952, -0.01909661,  0.00484602,\n",
       "       -0.01984829,  0.11745519,  0.05023349, -0.04047138, -0.24487555,\n",
       "        0.12597302, -0.07161577, -0.0398359 ,  0.21223915, -0.0800069 ,\n",
       "       -0.04751339, -0.02014961, -0.05634141,  0.11384968, -0.11333169,\n",
       "       -0.10243229,  0.08122341,  0.10048258,  0.11453977,  0.05299986,\n",
       "       -0.16752267,  0.02826483, -0.05496144,  0.08052929,  0.07890653,\n",
       "       -0.05551855,  0.2619754 ,  0.06428245, -0.02362666,  0.06006382,\n",
       "        0.14109312, -0.00968868,  0.09647774, -0.08978886,  0.04969239,\n",
       "       -0.22632094,  0.01867331, -0.1279182 , -0.01239976, -0.12523787,\n",
       "       -0.26849255,  0.0203699 , -0.0751688 ,  0.10436223,  0.10086942,\n",
       "       -0.08640932,  0.16811381,  0.2233069 ,  0.02238759, -0.1165047 ,\n",
       "       -0.03852123, -0.08397003,  0.16176055,  0.07460453,  0.3147186 ,\n",
       "       -0.14289118, -0.01295882,  0.16642387,  0.02042324,  0.1177819 ,\n",
       "        0.12484264,  0.08486327, -0.04285358,  0.16990557, -0.34174466,\n",
       "        0.00535375, -0.06678232,  0.09515802, -0.0869157 ,  0.16762981,\n",
       "        0.10885178,  0.07089937, -0.02948813, -0.12339136, -0.15993302,\n",
       "        0.14442636, -0.04766848,  0.02923768,  0.12620461, -0.03962396,\n",
       "       -0.12971897, -0.29416466,  0.2581088 , -0.06975241,  0.1440025 ,\n",
       "       -0.12094411,  0.08642063,  0.15847509,  0.07814658, -0.11882526,\n",
       "       -0.04107881,  0.16189943, -0.01554309,  0.0885629 ,  0.05438845,\n",
       "        0.09207536, -0.01561281, -0.07060401, -0.00739372, -0.16837507,\n",
       "       -0.05595473, -0.04217651,  0.16223267,  0.15099534,  0.02347912,\n",
       "        0.14186674,  0.07723852,  0.19661754,  0.13876942, -0.23078066,\n",
       "       -0.16992436,  0.03917968, -0.14514807,  0.0143533 , -0.09107476,\n",
       "       -0.16032432,  0.09609919, -0.10342652, -0.10105549, -0.16741373,\n",
       "       -0.06784736, -0.02950243, -0.08540604,  0.1277547 , -0.13342214,\n",
       "        0.12571388,  0.24401422,  0.07094454,  0.05613786, -0.00348001,\n",
       "       -0.19432539, -0.09955969,  0.0871432 ,  0.07761913, -0.07231639,\n",
       "        0.00363394,  0.2346086 ,  0.21184117,  0.07423142, -0.01454002,\n",
       "       -0.06739297,  0.1018523 , -0.16623183, -0.05480369, -0.17899   ,\n",
       "       -0.08712307, -0.01661337,  0.11822206,  0.00338741, -0.14532565,\n",
       "        0.11809684,  0.04737442, -0.2552585 , -0.03385315,  0.12524311,\n",
       "        0.13920894,  0.08045357, -0.05166808, -0.00301692,  0.02425038,\n",
       "       -0.30556023, -0.00737398,  0.06871509,  0.19917004,  0.02384723,\n",
       "        0.05138148,  0.09550052, -0.14802209,  0.06543473,  0.04167024,\n",
       "       -0.05212427,  0.0334868 , -0.0303498 , -0.03666905, -0.02295923,\n",
       "       -0.0880542 ,  0.02016577,  0.1599239 ,  0.0921366 ,  0.08568352,\n",
       "       -0.13485096,  0.07400475,  0.13453743, -0.09001637,  0.15442307,\n",
       "       -0.02993663, -0.02275621,  0.04729364, -0.05728389, -0.16278782,\n",
       "        0.15286364,  0.05244921,  0.11473726,  0.20387371,  0.16989593,\n",
       "        0.16942073, -0.15639894, -0.03200319,  0.1095047 ,  0.02254149,\n",
       "        0.09629803, -0.22034287, -0.00560745,  0.02900612, -0.402927  ],\n",
       "      dtype=float32)"
      ]
     },
     "execution_count": 25,
     "metadata": {},
     "output_type": "execute_result"
    }
   ],
   "source": [
    "model['پاکستان']"
   ]
  },
  {
   "cell_type": "code",
   "execution_count": null,
   "metadata": {},
   "outputs": [],
   "source": []
  }
 ],
 "metadata": {
  "anaconda-cloud": {},
  "kernelspec": {
   "display_name": "Python 3",
   "language": "python",
   "name": "python3"
  },
  "language_info": {
   "codemirror_mode": {
    "name": "ipython",
    "version": 3
   },
   "file_extension": ".py",
   "mimetype": "text/x-python",
   "name": "python",
   "nbconvert_exporter": "python",
   "pygments_lexer": "ipython3",
   "version": "3.6.4"
  }
 },
 "nbformat": 4,
 "nbformat_minor": 1
}
